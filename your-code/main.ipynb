{
 "cells": [
  {
   "cell_type": "markdown",
   "metadata": {},
   "source": [
    "# Intrduction to NumPy\n",
    "\n",
    "\n",
    "#### 1. Import NumPy under the name np."
   ]
  },
  {
   "cell_type": "code",
   "execution_count": 1,
   "metadata": {},
   "outputs": [],
   "source": [
    "# your code here\n",
    "import numpy as np\n"
   ]
  },
  {
   "cell_type": "markdown",
   "metadata": {},
   "source": [
    "#### 2. Print your NumPy version."
   ]
  },
  {
   "cell_type": "code",
   "execution_count": 2,
   "metadata": {},
   "outputs": [
    {
     "name": "stdout",
     "output_type": "stream",
     "text": [
      "1.18.1\n"
     ]
    }
   ],
   "source": [
    "# your code here\n",
    "print(np.version.version)"
   ]
  },
  {
   "cell_type": "markdown",
   "metadata": {},
   "source": [
    "#### 3. Generate a 2x3x5 3-dimensional array with random values. Assign the array to variable *a*.\n",
    "**Challenge**: there are at least three easy ways that use numpy to generate random arrays. How many ways can you find?"
   ]
  },
  {
   "cell_type": "code",
   "execution_count": 3,
   "metadata": {},
   "outputs": [
    {
     "data": {
      "text/plain": [
       "array([[[0.01211221, 0.22358094, 0.00292748, 0.64106289, 0.10676724],\n",
       "        [0.61651014, 0.09218315, 0.19070391, 0.31367289, 0.97511983],\n",
       "        [0.19924088, 0.38221008, 0.10343186, 0.47092111, 0.15025097]],\n",
       "\n",
       "       [[0.385889  , 0.64237869, 0.80005777, 0.35143797, 0.34504157],\n",
       "        [0.05841984, 0.83522699, 0.06712718, 0.80058127, 0.46546479],\n",
       "        [0.9936475 , 0.49303385, 0.64934614, 0.15526027, 0.05965893]]])"
      ]
     },
     "execution_count": 3,
     "metadata": {},
     "output_type": "execute_result"
    }
   ],
   "source": [
    "# Method 1\n",
    "\n",
    "a = np.random.random((2,3,5))\n",
    "a"
   ]
  },
  {
   "cell_type": "code",
   "execution_count": 4,
   "metadata": {},
   "outputs": [
    {
     "data": {
      "text/plain": [
       "array([[[0.15195189, 0.55183619, 0.59416504, 0.57608279, 0.04357642],\n",
       "        [0.22652174, 0.35205801, 0.34113844, 0.81708066, 0.24188676],\n",
       "        [0.58069088, 0.22981401, 0.53514084, 0.61829065, 0.33404257]],\n",
       "\n",
       "       [[0.76797426, 0.87097567, 0.81968641, 0.39692946, 0.44524158],\n",
       "        [0.1582932 , 0.0164242 , 0.03230287, 0.72605236, 0.3943521 ],\n",
       "        [0.24934172, 0.48791709, 0.3666166 , 0.11704715, 0.49227905]]])"
      ]
     },
     "execution_count": 4,
     "metadata": {},
     "output_type": "execute_result"
    }
   ],
   "source": [
    "# Method 2\n",
    "a = np.random.random((2,5,3))\n",
    "a = a.reshape(2,3,5)\n",
    "a"
   ]
  },
  {
   "cell_type": "code",
   "execution_count": 5,
   "metadata": {},
   "outputs": [
    {
     "data": {
      "text/plain": [
       "(2, 3, 5)"
      ]
     },
     "execution_count": 5,
     "metadata": {},
     "output_type": "execute_result"
    }
   ],
   "source": [
    "# Method 3\n",
    "h = np.random.random((3,5))\n",
    "y = np.random.random((3,5))\n",
    "c = np.array((h,y))\n",
    "c.shape\n"
   ]
  },
  {
   "cell_type": "markdown",
   "metadata": {},
   "source": [
    "#### 4. Print *a*.\n"
   ]
  },
  {
   "cell_type": "code",
   "execution_count": 6,
   "metadata": {},
   "outputs": [
    {
     "name": "stdout",
     "output_type": "stream",
     "text": [
      "[[[0.15195189 0.55183619 0.59416504 0.57608279 0.04357642]\n",
      "  [0.22652174 0.35205801 0.34113844 0.81708066 0.24188676]\n",
      "  [0.58069088 0.22981401 0.53514084 0.61829065 0.33404257]]\n",
      "\n",
      " [[0.76797426 0.87097567 0.81968641 0.39692946 0.44524158]\n",
      "  [0.1582932  0.0164242  0.03230287 0.72605236 0.3943521 ]\n",
      "  [0.24934172 0.48791709 0.3666166  0.11704715 0.49227905]]]\n"
     ]
    }
   ],
   "source": [
    "\n",
    "print(a)"
   ]
  },
  {
   "cell_type": "markdown",
   "metadata": {},
   "source": [
    "#### 5. Create a 5x2x3 3-dimensional array with all values equaling 1. Assign the array to variable *b*."
   ]
  },
  {
   "cell_type": "code",
   "execution_count": 7,
   "metadata": {},
   "outputs": [
    {
     "data": {
      "text/plain": [
       "array([[[1, 1, 1],\n",
       "        [1, 1, 1]],\n",
       "\n",
       "       [[1, 1, 1],\n",
       "        [1, 1, 1]],\n",
       "\n",
       "       [[1, 1, 1],\n",
       "        [1, 1, 1]],\n",
       "\n",
       "       [[1, 1, 1],\n",
       "        [1, 1, 1]],\n",
       "\n",
       "       [[1, 1, 1],\n",
       "        [1, 1, 1]]])"
      ]
     },
     "execution_count": 7,
     "metadata": {},
     "output_type": "execute_result"
    }
   ],
   "source": [
    "# your code here\n",
    "b= np.ones((5,2,3), dtype = int)\n",
    "b"
   ]
  },
  {
   "cell_type": "markdown",
   "metadata": {},
   "source": [
    "#### 6. Print *b*.\n"
   ]
  },
  {
   "cell_type": "code",
   "execution_count": 8,
   "metadata": {},
   "outputs": [
    {
     "name": "stdout",
     "output_type": "stream",
     "text": [
      "[[[1 1 1]\n",
      "  [1 1 1]]\n",
      "\n",
      " [[1 1 1]\n",
      "  [1 1 1]]\n",
      "\n",
      " [[1 1 1]\n",
      "  [1 1 1]]\n",
      "\n",
      " [[1 1 1]\n",
      "  [1 1 1]]\n",
      "\n",
      " [[1 1 1]\n",
      "  [1 1 1]]]\n"
     ]
    }
   ],
   "source": [
    "# your code here\n",
    "print(b)"
   ]
  },
  {
   "cell_type": "markdown",
   "metadata": {},
   "source": [
    "#### 7. Do *a* and *b* have the same size? How do you prove that in Python code?"
   ]
  },
  {
   "cell_type": "code",
   "execution_count": 9,
   "metadata": {},
   "outputs": [
    {
     "data": {
      "text/plain": [
       "True"
      ]
     },
     "execution_count": 9,
     "metadata": {},
     "output_type": "execute_result"
    }
   ],
   "source": [
    "# your code here\n",
    "b.size == a.size\n"
   ]
  },
  {
   "cell_type": "markdown",
   "metadata": {},
   "source": [
    "#### 8. Are you able to add *a* and *b*? Why or why not?\n"
   ]
  },
  {
   "cell_type": "code",
   "execution_count": 10,
   "metadata": {},
   "outputs": [
    {
     "name": "stdout",
     "output_type": "stream",
     "text": [
      "(5, 2, 3)\n",
      "(2, 3, 5)\n",
      "a and b have different shapes and cant be added\n"
     ]
    }
   ],
   "source": [
    "print(b.shape)\n",
    "print(a.shape)\n",
    "\n",
    "# your answer here\n",
    "\n",
    "if a.shape == b.shape: \n",
    "    print('a and b have the same shape and can be added')\n",
    "else: \n",
    "    print('a and b have different shapes and cant be added')\n",
    "\n",
    "#No, because they don't have the same shape"
   ]
  },
  {
   "cell_type": "markdown",
   "metadata": {},
   "source": [
    "#### 9. Transpose *b* so that it has the same structure of *a* (i.e. become a 2x3x5 array). Assign the transposed array to variable *c*."
   ]
  },
  {
   "cell_type": "code",
   "execution_count": 11,
   "metadata": {},
   "outputs": [
    {
     "name": "stdout",
     "output_type": "stream",
     "text": [
      "(2, 3, 5)\n"
     ]
    }
   ],
   "source": [
    "# your code here\n",
    "\n",
    "c = np.transpose(b,(1,2,0)) # b was a 5x2x3 if we want to get it to 2x3x5 then ints go from 0,1,2 to 1,2,0\n",
    "\n",
    "print(c.shape)\n",
    "\n"
   ]
  },
  {
   "cell_type": "markdown",
   "metadata": {},
   "source": [
    "#### 10. Try to add *a* and *c*. Now it should work. Assign the sum to variable *d*. But why does it work now?"
   ]
  },
  {
   "cell_type": "code",
   "execution_count": 12,
   "metadata": {},
   "outputs": [
    {
     "data": {
      "text/plain": [
       "array([[[1.15195189, 1.55183619, 1.59416504, 1.57608279, 1.04357642],\n",
       "        [1.22652174, 1.35205801, 1.34113844, 1.81708066, 1.24188676],\n",
       "        [1.58069088, 1.22981401, 1.53514084, 1.61829065, 1.33404257]],\n",
       "\n",
       "       [[1.76797426, 1.87097567, 1.81968641, 1.39692946, 1.44524158],\n",
       "        [1.1582932 , 1.0164242 , 1.03230287, 1.72605236, 1.3943521 ],\n",
       "        [1.24934172, 1.48791709, 1.3666166 , 1.11704715, 1.49227905]]])"
      ]
     },
     "execution_count": 12,
     "metadata": {},
     "output_type": "execute_result"
    }
   ],
   "source": [
    "# your code/answer here\n",
    "d = np.add(a,c)\n",
    "d\n"
   ]
  },
  {
   "cell_type": "markdown",
   "metadata": {},
   "source": [
    "#### 11. Print *a* and *d*. Notice the difference and relation of the two array in terms of the values? Explain."
   ]
  },
  {
   "cell_type": "code",
   "execution_count": 13,
   "metadata": {},
   "outputs": [
    {
     "name": "stdout",
     "output_type": "stream",
     "text": [
      "[[[0.15195189 0.55183619 0.59416504 0.57608279 0.04357642]\n",
      "  [0.22652174 0.35205801 0.34113844 0.81708066 0.24188676]\n",
      "  [0.58069088 0.22981401 0.53514084 0.61829065 0.33404257]]\n",
      "\n",
      " [[0.76797426 0.87097567 0.81968641 0.39692946 0.44524158]\n",
      "  [0.1582932  0.0164242  0.03230287 0.72605236 0.3943521 ]\n",
      "  [0.24934172 0.48791709 0.3666166  0.11704715 0.49227905]]] \n",
      "\n",
      "[[[1.15195189 1.55183619 1.59416504 1.57608279 1.04357642]\n",
      "  [1.22652174 1.35205801 1.34113844 1.81708066 1.24188676]\n",
      "  [1.58069088 1.22981401 1.53514084 1.61829065 1.33404257]]\n",
      "\n",
      " [[1.76797426 1.87097567 1.81968641 1.39692946 1.44524158]\n",
      "  [1.1582932  1.0164242  1.03230287 1.72605236 1.3943521 ]\n",
      "  [1.24934172 1.48791709 1.3666166  1.11704715 1.49227905]]]\n",
      "Every value of d corresponds to the sum of each individual value of a to the correspondent value of c, the transposed shape of b\n"
     ]
    }
   ],
   "source": [
    "# your code/answer here\n",
    "print(a,'\\n')\n",
    "print(d)\n",
    "\n",
    "\n",
    "print('Every value of d corresponds to the sum of each individual value of a to the correspondent value of c, the transposed shape of b')"
   ]
  },
  {
   "cell_type": "markdown",
   "metadata": {},
   "source": [
    "#### 12. Multiply *a* and *c*. Assign the result to *e*."
   ]
  },
  {
   "cell_type": "code",
   "execution_count": 14,
   "metadata": {},
   "outputs": [],
   "source": [
    "# your code here\n",
    "e = np.multiply(a,c)\n"
   ]
  },
  {
   "cell_type": "markdown",
   "metadata": {},
   "source": [
    "#### 13. Does *e* equal to *a*? Why or why not?\n"
   ]
  },
  {
   "cell_type": "code",
   "execution_count": 15,
   "metadata": {},
   "outputs": [
    {
     "data": {
      "text/plain": [
       "'Yes, we basically just multiplied every value of a by 1, so e is exactly the same as a'"
      ]
     },
     "execution_count": 15,
     "metadata": {},
     "output_type": "execute_result"
    }
   ],
   "source": [
    "# your code/answer here\n",
    "e == a\n",
    "(\"Yes, we basically just multiplied every value of a by 1, so e is exactly the same as a\")"
   ]
  },
  {
   "cell_type": "markdown",
   "metadata": {},
   "source": [
    "#### 14. Identify the max, min, and mean values in *d*. Assign those values to variables *d_max*, *d_min* and *d_mean*."
   ]
  },
  {
   "cell_type": "code",
   "execution_count": 16,
   "metadata": {},
   "outputs": [
    {
     "name": "stdout",
     "output_type": "stream",
     "text": [
      "[[[1.15195189 1.55183619 1.59416504 1.57608279 1.04357642]\n",
      "  [1.22652174 1.35205801 1.34113844 1.81708066 1.24188676]\n",
      "  [1.58069088 1.22981401 1.53514084 1.61829065 1.33404257]]\n",
      "\n",
      " [[1.76797426 1.87097567 1.81968641 1.39692946 1.44524158]\n",
      "  [1.1582932  1.0164242  1.03230287 1.72605236 1.3943521 ]\n",
      "  [1.24934172 1.48791709 1.3666166  1.11704715 1.49227905]]]\n",
      "Max value of d: 1.8709756650604175\n",
      "Min value of d: 1.0164242016773302\n",
      "Mean value of d: 1.4178570199511527\n"
     ]
    }
   ],
   "source": [
    "# your code here\n",
    "print(d)\n",
    "\n",
    "# max\n",
    "d_max = np.max(d)\n",
    "print(\"Max value of d:\", d_max)\n",
    "\n",
    "# min \n",
    "d_min = np.min(d)\n",
    "print(\"Min value of d:\", d_min)\n",
    "\n",
    "\n",
    "d_mean = np.mean(d)\n",
    "print(\"Mean value of d:\",d_mean)\n",
    "\n"
   ]
  },
  {
   "cell_type": "markdown",
   "metadata": {},
   "source": [
    "#### 15. Now we want to label the values in *d*. First create an empty array *f* with the same shape (i.e. 2x3x5) as *d* using `np.empty`.\n"
   ]
  },
  {
   "cell_type": "code",
   "execution_count": 71,
   "metadata": {},
   "outputs": [
    {
     "name": "stdout",
     "output_type": "stream",
     "text": [
      "[[[25.          1.55183619  1.59416504  1.57608279 25.        ]\n",
      "  [25.         25.         25.          1.81708066 25.        ]\n",
      "  [ 1.58069088 25.          1.53514084  1.61829065 25.        ]]\n",
      "\n",
      " [[ 1.76797426  1.87097567  1.81968641 25.          1.44524158]\n",
      "  [25.          1.0164242  25.          1.72605236 25.        ]\n",
      "  [25.          1.48791709 25.         25.          1.49227905]]]\n"
     ]
    }
   ],
   "source": [
    "# your code here\n",
    "\n",
    "f = np.empty([2,3,5], dtype = float )\n",
    "print(f)\n",
    "\n",
    "# why is this equal to d?"
   ]
  },
  {
   "cell_type": "markdown",
   "metadata": {},
   "source": [
    "#### 16. Populate the values in *f*. \n",
    "\n",
    "For each value in *d*, if it's larger than *d_min* but smaller than *d_mean*, assign 25 to the corresponding value in *f*. If a value in *d* is larger than *d_mean* but smaller than *d_max*, assign 75 to the corresponding value in *f*. If a value equals to *d_mean*, assign 50 to the corresponding value in *f*. Assign 0 to the corresponding value(s) in *f* for *d_min* in *d*. Assign 100 to the corresponding value(s) in *f* for *d_max* in *d*. In the end, f should have only the following values: 0, 25, 50, 75, and 100.\n",
    "\n",
    "**Note**: you don't have to use Numpy in this question."
   ]
  },
  {
   "cell_type": "code",
   "execution_count": 78,
   "metadata": {},
   "outputs": [
    {
     "name": "stdout",
     "output_type": "stream",
     "text": [
      "[[[ 25.  75.  75.  75.  25.]\n",
      "  [ 25.  25.  25.  75.  25.]\n",
      "  [ 75.  25.  75.  75.  25.]]\n",
      "\n",
      " [[ 75. 100.  75.  25.  75.]\n",
      "  [ 25.   0.  25.  75.  25.]\n",
      "  [ 25.  75.  25.  25.  75.]]]\n"
     ]
    }
   ],
   "source": [
    "# your code here\n",
    "\n",
    "\n",
    "\n",
    "f = np.where((d<d_mean)&(d>d_min),25,d)\n",
    "f = np.where((d>d_mean)&(d<d_max),75,f)\n",
    "f = np.where((d==d_min),0,f)\n",
    "f = np.where((d==d_max),100,f)\n",
    "f = np.where(d==d_mean,50,f)\n",
    "\n",
    "\n",
    "print(f)\n"
   ]
  },
  {
   "cell_type": "markdown",
   "metadata": {},
   "source": [
    "#### 17. Print *d* and *f*. Do you have your expected *f*?\n",
    "For instance, if your *d* is:\n",
    "```python\n",
    "[[[1.85836099, 1.67064465, 1.62576044, 1.40243961, 1.88454931],\n",
    "[1.75354326, 1.69403643, 1.36729252, 1.61415071, 1.12104981],\n",
    "[1.72201435, 1.1862918 , 1.87078449, 1.7726778 , 1.88180042]],\n",
    "[[1.44747908, 1.31673383, 1.02000951, 1.52218947, 1.97066381],\n",
    "[1.79129243, 1.74983003, 1.96028037, 1.85166831, 1.65450881],\n",
    "[1.18068344, 1.9587381 , 1.00656599, 1.93402165, 1.73514584]]]\n",
    "```\n",
    "Your *f* should be:\n",
    "```python\n",
    "[[[ 75.,  75.,  75.,  25.,  75.],\n",
    "[ 75.,  75.,  25.,  25.,  25.],\n",
    "[ 75.,  25.,  75.,  75.,  75.]],\n",
    "[[ 25.,  25.,  25.,  25., 100.],\n",
    "[ 75.,  75.,  75.,  75.,  75.],\n",
    "[ 25.,  75.,   0.,  75.,  75.]]]\n",
    "```"
   ]
  },
  {
   "cell_type": "code",
   "execution_count": 79,
   "metadata": {},
   "outputs": [
    {
     "name": "stdout",
     "output_type": "stream",
     "text": [
      "[[[1.15195189 1.55183619 1.59416504 1.57608279 1.04357642]\n",
      "  [1.22652174 1.35205801 1.34113844 1.81708066 1.24188676]\n",
      "  [1.58069088 1.22981401 1.53514084 1.61829065 1.33404257]]\n",
      "\n",
      " [[1.76797426 1.87097567 1.81968641 1.39692946 1.44524158]\n",
      "  [1.1582932  1.0164242  1.03230287 1.72605236 1.3943521 ]\n",
      "  [1.24934172 1.48791709 1.3666166  1.11704715 1.49227905]]] \n",
      "\n",
      "[[[ 25.  75.  75.  75.  25.]\n",
      "  [ 25.  25.  25.  75.  25.]\n",
      "  [ 75.  25.  75.  75.  25.]]\n",
      "\n",
      " [[ 75. 100.  75.  25.  75.]\n",
      "  [ 25.   0.  25.  75.  25.]\n",
      "  [ 25.  75.  25.  25.  75.]]] \n",
      "\n"
     ]
    }
   ],
   "source": [
    "# your code here\n",
    "print(d,'\\n')\n",
    "print(f,'\\n')\n",
    "    "
   ]
  },
  {
   "cell_type": "markdown",
   "metadata": {},
   "source": [
    "#### 18. Bonus question: instead of using numbers (i.e. 0, 25, 50, 75, and 100), use string values  (\"A\", \"B\", \"C\", \"D\", and \"E\") to label the array elements. For the example above, the expected result is:\n",
    "\n",
    "```python\n",
    "[[[ 'D',  'D',  'D',  'B',  'D'],\n",
    "[ 'D',  'D',  'B',  'B',  'B'],\n",
    "[ 'D',  'B',  'D',  'D',  'D']],\n",
    "[[ 'B',  'B',  'B',  'B',  'E'],\n",
    "[ 'D',  'D',  'D',  'D',  'D'],\n",
    "[ 'B',  'D',   'A',  'D', 'D']]]\n",
    "```\n",
    "**Note**: you don't have to use Numpy in this question."
   ]
  },
  {
   "cell_type": "code",
   "execution_count": 80,
   "metadata": {},
   "outputs": [
    {
     "name": "stdout",
     "output_type": "stream",
     "text": [
      "[[[1.15195189 1.55183619 1.59416504 1.57608279 1.04357642]\n",
      "  [1.22652174 1.35205801 1.34113844 1.81708066 1.24188676]\n",
      "  [1.58069088 1.22981401 1.53514084 1.61829065 1.33404257]]\n",
      "\n",
      " [[1.76797426 1.87097567 1.81968641 1.39692946 1.44524158]\n",
      "  [1.1582932  1.0164242  1.03230287 1.72605236 1.3943521 ]\n",
      "  [1.24934172 1.48791709 1.3666166  1.11704715 1.49227905]]] \n",
      "\n",
      "[[['A' 'B' 'B' 'B' 'A']\n",
      "  ['A' 'A' 'A' 'B' 'A']\n",
      "  ['B' 'A' 'B' 'B' 'A']]\n",
      "\n",
      " [['B' 'D' 'B' 'A' 'B']\n",
      "  ['A' 'C' 'A' 'B' 'A']\n",
      "  ['A' 'B' 'A' 'A' 'B']]] \n",
      "\n"
     ]
    }
   ],
   "source": [
    "# your code here\n",
    "f = np.where((d<d_mean)&(d>d_min),'A',d)\n",
    "f = np.where((d>d_mean)&(d<d_max),'B',f)\n",
    "f = np.where((d==d_min),'C',f)\n",
    "f = np.where((d==d_max),'D',f)\n",
    "f = np.where(d==d_mean,'E',f)\n",
    "\n",
    "print(d,'\\n')\n",
    "print(f,'\\n')"
   ]
  }
 ],
 "metadata": {
  "kernelspec": {
   "display_name": "Python 3",
   "language": "python",
   "name": "python3"
  },
  "language_info": {
   "codemirror_mode": {
    "name": "ipython",
    "version": 3
   },
   "file_extension": ".py",
   "mimetype": "text/x-python",
   "name": "python",
   "nbconvert_exporter": "python",
   "pygments_lexer": "ipython3",
   "version": "3.6.9"
  }
 },
 "nbformat": 4,
 "nbformat_minor": 2
}
